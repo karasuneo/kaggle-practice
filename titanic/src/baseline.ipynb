{
 "cells": [
  {
   "cell_type": "code",
   "execution_count": 1,
   "metadata": {},
   "outputs": [],
   "source": [
    "import pandas as pd\n",
    "import lightgbm as lgb\n",
    "from sklearn.preprocessing import LabelEncoder\n",
    "from sklearn.model_selection import cross_val_score, train_test_split\n",
    "from sklearn.metrics import confusion_matrix\n",
    "import matplotlib.pyplot as plt\n",
    "import numpy as np"
   ]
  },
  {
   "cell_type": "markdown",
   "metadata": {},
   "source": [
    "# まず最初にやること\n",
    "分析設計（目的変数・説明変数・バリデーション・評価指標の決定）"
   ]
  },
  {
   "cell_type": "markdown",
   "metadata": {},
   "source": [
    "### データの確認\n",
    "- 欠損値はどれだけあるか\n",
    "  - 一番初めは、欠損値の処理は行わないようにする\n",
    "  - 後々の特徴量エンジニアリングで非常に重要な要素である可能性があるため\n",
    "- データのカラム数・レコード数はいくつあるか"
   ]
  },
  {
   "cell_type": "code",
   "execution_count": 2,
   "metadata": {},
   "outputs": [
    {
     "name": "stdout",
     "output_type": "stream",
     "text": [
      "   PassengerId  Survived  Pclass  \\\n",
      "0            1         0       3   \n",
      "1            2         1       1   \n",
      "2            3         1       3   \n",
      "3            4         1       1   \n",
      "4            5         0       3   \n",
      "\n",
      "                                                Name     Sex   Age  SibSp  \\\n",
      "0                            Braund, Mr. Owen Harris    male  22.0      1   \n",
      "1  Cumings, Mrs. John Bradley (Florence Briggs Th...  female  38.0      1   \n",
      "2                             Heikkinen, Miss. Laina  female  26.0      0   \n",
      "3       Futrelle, Mrs. Jacques Heath (Lily May Peel)  female  35.0      1   \n",
      "4                           Allen, Mr. William Henry    male  35.0      0   \n",
      "\n",
      "   Parch            Ticket     Fare Cabin Embarked  \n",
      "0      0         A/5 21171   7.2500   NaN        S  \n",
      "1      0          PC 17599  71.2833   C85        C  \n",
      "2      0  STON/O2. 3101282   7.9250   NaN        S  \n",
      "3      0            113803  53.1000  C123        S  \n",
      "4      0            373450   8.0500   NaN        S  \n",
      "<class 'pandas.core.frame.DataFrame'>\n",
      "RangeIndex: 891 entries, 0 to 890\n",
      "Data columns (total 12 columns):\n",
      " #   Column       Non-Null Count  Dtype  \n",
      "---  ------       --------------  -----  \n",
      " 0   PassengerId  891 non-null    int64  \n",
      " 1   Survived     891 non-null    int64  \n",
      " 2   Pclass       891 non-null    int64  \n",
      " 3   Name         891 non-null    object \n",
      " 4   Sex          891 non-null    object \n",
      " 5   Age          714 non-null    float64\n",
      " 6   SibSp        891 non-null    int64  \n",
      " 7   Parch        891 non-null    int64  \n",
      " 8   Ticket       891 non-null    object \n",
      " 9   Fare         891 non-null    float64\n",
      " 10  Cabin        204 non-null    object \n",
      " 11  Embarked     889 non-null    object \n",
      "dtypes: float64(2), int64(5), object(5)\n",
      "memory usage: 83.7+ KB\n",
      "None\n",
      "PassengerId      0\n",
      "Survived         0\n",
      "Pclass           0\n",
      "Name             0\n",
      "Sex              0\n",
      "Age            177\n",
      "SibSp            0\n",
      "Parch            0\n",
      "Ticket           0\n",
      "Fare             0\n",
      "Cabin          687\n",
      "Embarked         2\n",
      "dtype: int64\n"
     ]
    }
   ],
   "source": [
    "df_titanic_train = pd.read_csv(\"../data/train.csv\")\n",
    "\n",
    "print(df_titanic_train.head())\n",
    "print(df_titanic_train.info())\n",
    "print(df_titanic_train.isnull().sum())"
   ]
  },
  {
   "cell_type": "markdown",
   "metadata": {},
   "source": [
    "### 目的変数と説明変数の作成\n",
    "- 最初は必要最低限でいい\n",
    "- 今回は「Sex」と「Fare」をベースライン作成に用いる説明変数とする\n",
    "  - 欠損値がなく、感覚的に目的変数との関わりが深そうだから\n",
    "- また、「Sex」はダミー変数に変換\n",
    "  - 0：女性\n",
    "  - 1：男性"
   ]
  },
  {
   "cell_type": "code",
   "execution_count": 3,
   "metadata": {},
   "outputs": [
    {
     "name": "stdout",
     "output_type": "stream",
     "text": [
      "(712, 2) (712,) (179, 2) (179,)\n"
     ]
    }
   ],
   "source": [
    "le = LabelEncoder()\n",
    "df_titanic_train[\"Sex\"] = le.fit_transform(df_titanic_train[\"Sex\"])\n",
    "\n",
    "# ベースライン検証データに分割\n",
    "df_titanic_train, df_titanic_train_baseline = train_test_split(\n",
    "    df_titanic_train, test_size=0.2, shuffle=True, random_state=0\n",
    ")\n",
    "\n",
    "X: pd.DataFrame = df_titanic_train[[\"Sex\", \"Fare\"]]\n",
    "X_baseline: pd.DataFrame = df_titanic_train_baseline[[\"Sex\", \"Fare\"]]\n",
    "\n",
    "y: pd.DataFrame = df_titanic_train[\"Survived\"]\n",
    "y_baseline: pd.DataFrame = df_titanic_train_baseline[\"Survived\"]\n",
    "\n",
    "\n",
    "print(\n",
    "    X.shape,\n",
    "    y.shape,\n",
    "    X_baseline.shape,\n",
    "    y_baseline.shape,\n",
    ")"
   ]
  },
  {
   "cell_type": "markdown",
   "metadata": {},
   "source": [
    "### モデル学習及びバリデーション\n",
    "- 最初は勾配ブースティングを使えばよい\n",
    "  - 早い\n",
    "  - モデルの精度が高い\n",
    "  - 欠損値があっても処理できる\n",
    "  - 異常値の影響を受けない\n",
    "\n",
    "#### ベースライン検証もついでに"
   ]
  },
  {
   "cell_type": "code",
   "execution_count": 4,
   "metadata": {},
   "outputs": [
    {
     "name": "stdout",
     "output_type": "stream",
     "text": [
      "検証データのクロスバリデーションそれぞれの精度: [0.75524476 0.83216783 0.76056338 0.78873239 0.79577465]\n",
      "検証データのクロスバリデーションの平均精度: 0.7864966019895597\n",
      "\n",
      "ベースライン検証データのクロスバリデーションそれぞれの精度: [0.77777778 0.69444444 0.72222222 0.88888889 0.85714286]\n",
      "ベースライン検証データのクロスバリデーションの平均精度: 0.7880952380952382\n"
     ]
    }
   ],
   "source": [
    "model = lgb.LGBMClassifier(verbose=-1)\n",
    "\n",
    "\n",
    "# 交差検証の実行\n",
    "scores = cross_val_score(model, X, y, cv=5, scoring=\"accuracy\")\n",
    "scores_baseline = cross_val_score(\n",
    "    model, X_baseline, y_baseline, cv=5, scoring=\"accuracy\"\n",
    ")\n",
    "\n",
    "# 結果の表示\n",
    "# 大きな違いは見られないため、バリデーションは正しく行われていると考えられる\n",
    "print(f\"検証データのクロスバリデーションそれぞれの精度: {scores}\")\n",
    "print(f\"検証データのクロスバリデーションの平均精度: {scores.mean()}\")\n",
    "print()\n",
    "print(f\"ベースライン検証データのクロスバリデーションそれぞれの精度: {scores_baseline}\")\n",
    "print(\n",
    "    f\"ベースライン検証データのクロスバリデーションの平均精度: {scores_baseline.mean()}\"\n",
    ")"
   ]
  },
  {
   "cell_type": "markdown",
   "metadata": {},
   "source": [
    "#### 説明変数における重要度を計算"
   ]
  },
  {
   "cell_type": "code",
   "execution_count": 5,
   "metadata": {},
   "outputs": [
    {
     "name": "stdout",
     "output_type": "stream",
     "text": [
      "Feature: Sex, Importance: 126\n",
      "Feature: Fare, Importance: 2363\n"
     ]
    }
   ],
   "source": [
    "model.fit(X, y)\n",
    "\n",
    "# 特徴量の重要度を取得\n",
    "importance = model.feature_importances_\n",
    "\n",
    "# 特徴量の名前を取得\n",
    "feature_names = X.columns\n",
    "\n",
    "# 重要度を表示\n",
    "for feature, imp in zip(feature_names, importance):\n",
    "    print(f\"Feature: {feature}, Importance: {imp}\")"
   ]
  },
  {
   "cell_type": "markdown",
   "metadata": {},
   "source": [
    "誤差分布の比較"
   ]
  },
  {
   "cell_type": "code",
   "execution_count": 6,
   "metadata": {},
   "outputs": [
    {
     "name": "stdout",
     "output_type": "stream",
     "text": [
      "検証データ\n",
      "[[401  38]\n",
      " [ 65 208]]\n",
      "[[0.56320225 0.05337079]\n",
      " [0.09129213 0.29213483]]\n",
      "ベースライン検証データ\n",
      "[[92 18]\n",
      " [16 53]]\n",
      "[[0.51396648 0.10055866]\n",
      " [0.08938547 0.29608939]]\n"
     ]
    }
   ],
   "source": [
    "y_predict = model.predict(X)\n",
    "y_baseline_predict = model.predict(X_baseline)\n",
    "\n",
    "\n",
    "print(\"検証データ\")\n",
    "print(confusion_matrix(y, y_predict))\n",
    "print(confusion_matrix(y, y_predict, normalize=\"all\"))\n",
    "print(\"ベースライン検証データ\")\n",
    "print(confusion_matrix(y_baseline, y_baseline_predict))\n",
    "print(confusion_matrix(y_baseline, y_baseline_predict, normalize=\"all\"))\n",
    "\n"
   ]
  },
  {
   "cell_type": "code",
   "execution_count": 7,
   "metadata": {},
   "outputs": [
    {
     "data": {
      "text/plain": [
       "<matplotlib.legend.Legend at 0x130d520d0>"
      ]
     },
     "execution_count": 7,
     "metadata": {},
     "output_type": "execute_result"
    },
    {
     "data": {
      "image/png": "[encoded data removed]",
      "text/plain": [
       "<Figure size 640x480 with 1 Axes>"
      ]
     },
     "metadata": {},
     "output_type": "display_data"
    }
   ],
   "source": [
    "y_predict_proba = model.predict_proba(X)\n",
    "y_baseline_predict_proba = model.predict_proba(X_baseline)\n",
    "\n",
    "# 確率値をヒストグラムで表示\n",
    "plt.hist(y_predict_proba[:, 1], bins=20, alpha=0.5, label=\"predict\")\n",
    "plt.hist(y_baseline_predict_proba[:, 1], bins=20, alpha=0.5, label=\"baseline_predict\")\n",
    "plt.legend()"
   ]
  },
  {
   "cell_type": "markdown",
   "metadata": {},
   "source": [
    "### モデル推論"
   ]
  },
  {
   "cell_type": "code",
   "execution_count": 8,
   "metadata": {},
   "outputs": [],
   "source": [
    "df_titanic_test = pd.read_csv(\"../data/test.csv\")\n",
    "df_titanic_test[\"Sex\"] = le.fit_transform(df_titanic_test[\"Sex\"])\n",
    "\n",
    "X_test = df_titanic_test[[\"Sex\",\"Fare\"]]\n",
    "\n",
    "\n",
    "id_test = df_titanic_test[\"PassengerId\"]"
   ]
  },
  {
   "cell_type": "code",
   "execution_count": 9,
   "metadata": {},
   "outputs": [
    {
     "data": {
      "text/html": [
       "<div>\n",
       "<style scoped>\n",
       "    .dataframe tbody tr th:only-of-type {\n",
       "        vertical-align: middle;\n",
       "    }\n",
       "\n",
       "    .dataframe tbody tr th {\n",
       "        vertical-align: top;\n",
       "    }\n",
       "\n",
       "    .dataframe thead th {\n",
       "        text-align: right;\n",
       "    }\n",
       "</style>\n",
       "<table border=\"1\" class=\"dataframe\">\n",
       "  <thead>\n",
       "    <tr style=\"text-align: right;\">\n",
       "      <th></th>\n",
       "      <th>PassengerId</th>\n",
       "      <th>Survived</th>\n",
       "    </tr>\n",
       "  </thead>\n",
       "  <tbody>\n",
       "    <tr>\n",
       "      <th>0</th>\n",
       "      <td>892</td>\n",
       "      <td>0</td>\n",
       "    </tr>\n",
       "    <tr>\n",
       "      <th>1</th>\n",
       "      <td>893</td>\n",
       "      <td>1</td>\n",
       "    </tr>\n",
       "    <tr>\n",
       "      <th>2</th>\n",
       "      <td>894</td>\n",
       "      <td>0</td>\n",
       "    </tr>\n",
       "    <tr>\n",
       "      <th>3</th>\n",
       "      <td>895</td>\n",
       "      <td>0</td>\n",
       "    </tr>\n",
       "    <tr>\n",
       "      <th>4</th>\n",
       "      <td>896</td>\n",
       "      <td>1</td>\n",
       "    </tr>\n",
       "  </tbody>\n",
       "</table>\n",
       "</div>"
      ],
      "text/plain": [
       "   PassengerId  Survived\n",
       "0          892         0\n",
       "1          893         1\n",
       "2          894         0\n",
       "3          895         0\n",
       "4          896         1"
      ]
     },
     "metadata": {},
     "output_type": "display_data"
    }
   ],
   "source": [
    "y_test_pred = model.predict(X_test)\n",
    "df_out = pd.DataFrame({\"PassengerId\": id_test, \"Survived\": y_test_pred})\n",
    "display(df_out.head())\n",
    "df_out.to_csv(\"../data/result/submission_baseline.csv\", index=False)"
   ]
  }
 ],
 "metadata": {
  "kernelspec": {
   "display_name": "Python 3",
   "language": "python",
   "name": "python3"
  },
  "language_info": {
   "codemirror_mode": {
    "name": "ipython",
    "version": 3
   },
   "file_extension": ".py",
   "mimetype": "text/x-python",
   "name": "python",
   "nbconvert_exporter": "python",
   "pygments_lexer": "ipython3",
   "version": "3.11.5"
  }
 },
 "nbformat": 4,
 "nbformat_minor": 2
}
