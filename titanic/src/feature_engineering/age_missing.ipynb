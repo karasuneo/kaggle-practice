{
 "cells": [
  {
   "cell_type": "markdown",
   "metadata": {},
   "source": [
    "# 特徴量エンジニアリング\n",
    "- ベースラインに肉付けしていく形で行う\n",
    "- 一つの特徴量を作成・補完したらその都度精度確認\n",
    "  - もし、精度が下がったら没\n",
    "  - 上がったら採用"
   ]
  },
  {
   "cell_type": "markdown",
   "metadata": {},
   "source": [
    "### 欠損値の処理\n",
    "\n",
    "- 適当に値をぶっ込むは絶対にしない\n",
    "  - やってることデータの改変と同じ\n",
    "\n",
    "#### 基本的に\n",
    "\n",
    "- 数値データ\n",
    "  - 平均 or0\n",
    "- カテゴリ変数\n",
    "  - 空白埋め or 最頻値置換\n"
   ]
  },
  {
   "cell_type": "markdown",
   "metadata": {},
   "source": [
    "### 外れ値の検出・補正\n",
    "- 外れ値は値を見ただけで瞬時に判断できないため、欠損値よりも把握するのが難しい\n",
    "\n",
    "#### 補正方法\n",
    "- レコードごと除外する\n",
    "- 欠損値に変換する\n",
    "- ヒアリングして外れ値を正しい値に変換する\n",
    "- 他のデータから推定して補正する\n",
    "- 何もしない\n",
    "\n",
    "迷ったら何もしないのが適切"
   ]
  },
  {
   "cell_type": "code",
   "execution_count": 1,
   "metadata": {},
   "outputs": [],
   "source": [
    "import pandas as pd\n",
    "import pipeline\n",
    "import importlib\n",
    "import numpy as np\n",
    "\n",
    "importlib.reload(pipeline)\n",
    "from pipeline.baseline import Baseline"
   ]
  },
  {
   "cell_type": "markdown",
   "metadata": {},
   "source": [
    "### 要約統計量の表示"
   ]
  },
  {
   "cell_type": "code",
   "execution_count": 2,
   "metadata": {},
   "outputs": [
    {
     "data": {
      "text/html": [
       "<div>\n",
       "<style scoped>\n",
       "    .dataframe tbody tr th:only-of-type {\n",
       "        vertical-align: middle;\n",
       "    }\n",
       "\n",
       "    .dataframe tbody tr th {\n",
       "        vertical-align: top;\n",
       "    }\n",
       "\n",
       "    .dataframe thead th {\n",
       "        text-align: right;\n",
       "    }\n",
       "</style>\n",
       "<table border=\"1\" class=\"dataframe\">\n",
       "  <thead>\n",
       "    <tr style=\"text-align: right;\">\n",
       "      <th></th>\n",
       "      <th>count</th>\n",
       "      <th>mean</th>\n",
       "      <th>std</th>\n",
       "      <th>min</th>\n",
       "      <th>25%</th>\n",
       "      <th>50%</th>\n",
       "      <th>75%</th>\n",
       "      <th>max</th>\n",
       "    </tr>\n",
       "  </thead>\n",
       "  <tbody>\n",
       "    <tr>\n",
       "      <th>PassengerId</th>\n",
       "      <td>891.0</td>\n",
       "      <td>446.000000</td>\n",
       "      <td>257.353842</td>\n",
       "      <td>1.00</td>\n",
       "      <td>223.5000</td>\n",
       "      <td>446.0000</td>\n",
       "      <td>668.5</td>\n",
       "      <td>891.0000</td>\n",
       "    </tr>\n",
       "    <tr>\n",
       "      <th>Survived</th>\n",
       "      <td>891.0</td>\n",
       "      <td>0.383838</td>\n",
       "      <td>0.486592</td>\n",
       "      <td>0.00</td>\n",
       "      <td>0.0000</td>\n",
       "      <td>0.0000</td>\n",
       "      <td>1.0</td>\n",
       "      <td>1.0000</td>\n",
       "    </tr>\n",
       "    <tr>\n",
       "      <th>Pclass</th>\n",
       "      <td>891.0</td>\n",
       "      <td>2.308642</td>\n",
       "      <td>0.836071</td>\n",
       "      <td>1.00</td>\n",
       "      <td>2.0000</td>\n",
       "      <td>3.0000</td>\n",
       "      <td>3.0</td>\n",
       "      <td>3.0000</td>\n",
       "    </tr>\n",
       "    <tr>\n",
       "      <th>Age</th>\n",
       "      <td>714.0</td>\n",
       "      <td>29.699118</td>\n",
       "      <td>14.526497</td>\n",
       "      <td>0.42</td>\n",
       "      <td>20.1250</td>\n",
       "      <td>28.0000</td>\n",
       "      <td>38.0</td>\n",
       "      <td>80.0000</td>\n",
       "    </tr>\n",
       "    <tr>\n",
       "      <th>SibSp</th>\n",
       "      <td>891.0</td>\n",
       "      <td>0.523008</td>\n",
       "      <td>1.102743</td>\n",
       "      <td>0.00</td>\n",
       "      <td>0.0000</td>\n",
       "      <td>0.0000</td>\n",
       "      <td>1.0</td>\n",
       "      <td>8.0000</td>\n",
       "    </tr>\n",
       "    <tr>\n",
       "      <th>Parch</th>\n",
       "      <td>891.0</td>\n",
       "      <td>0.381594</td>\n",
       "      <td>0.806057</td>\n",
       "      <td>0.00</td>\n",
       "      <td>0.0000</td>\n",
       "      <td>0.0000</td>\n",
       "      <td>0.0</td>\n",
       "      <td>6.0000</td>\n",
       "    </tr>\n",
       "    <tr>\n",
       "      <th>Fare</th>\n",
       "      <td>891.0</td>\n",
       "      <td>32.204208</td>\n",
       "      <td>49.693429</td>\n",
       "      <td>0.00</td>\n",
       "      <td>7.9104</td>\n",
       "      <td>14.4542</td>\n",
       "      <td>31.0</td>\n",
       "      <td>512.3292</td>\n",
       "    </tr>\n",
       "  </tbody>\n",
       "</table>\n",
       "</div>"
      ],
      "text/plain": [
       "             count        mean         std   min       25%       50%    75%  \\\n",
       "PassengerId  891.0  446.000000  257.353842  1.00  223.5000  446.0000  668.5   \n",
       "Survived     891.0    0.383838    0.486592  0.00    0.0000    0.0000    1.0   \n",
       "Pclass       891.0    2.308642    0.836071  1.00    2.0000    3.0000    3.0   \n",
       "Age          714.0   29.699118   14.526497  0.42   20.1250   28.0000   38.0   \n",
       "SibSp        891.0    0.523008    1.102743  0.00    0.0000    0.0000    1.0   \n",
       "Parch        891.0    0.381594    0.806057  0.00    0.0000    0.0000    0.0   \n",
       "Fare         891.0   32.204208   49.693429  0.00    7.9104   14.4542   31.0   \n",
       "\n",
       "                  max  \n",
       "PassengerId  891.0000  \n",
       "Survived       1.0000  \n",
       "Pclass         3.0000  \n",
       "Age           80.0000  \n",
       "SibSp          8.0000  \n",
       "Parch          6.0000  \n",
       "Fare         512.3292  "
      ]
     },
     "execution_count": 2,
     "metadata": {},
     "output_type": "execute_result"
    }
   ],
   "source": [
    "df_titanic_train = pd.read_csv(\"../../data/train.csv\")\n",
    "\n",
    "df_titanic_train.describe().T"
   ]
  },
  {
   "cell_type": "code",
   "execution_count": 3,
   "metadata": {},
   "outputs": [
    {
     "name": "stdout",
     "output_type": "stream",
     "text": [
      "PassengerId      0\n",
      "Survived         0\n",
      "Pclass           0\n",
      "Name             0\n",
      "Sex              0\n",
      "Age            177\n",
      "SibSp            0\n",
      "Parch            0\n",
      "Ticket           0\n",
      "Fare             0\n",
      "Cabin          687\n",
      "Embarked         2\n",
      "dtype: int64\n"
     ]
    }
   ],
   "source": [
    "print(df_titanic_train.isnull().sum())"
   ]
  },
  {
   "cell_type": "markdown",
   "metadata": {},
   "source": [
    "## Ageをコネコネする\n"
   ]
  },
  {
   "cell_type": "code",
   "execution_count": 4,
   "metadata": {},
   "outputs": [
    {
     "data": {
      "text/plain": [
       "<Axes: ylabel='Frequency'>"
      ]
     },
     "execution_count": 4,
     "metadata": {},
     "output_type": "execute_result"
    },
    {
     "data": {
      "image/png": "[encoded data removed]",
      "text/plain": [
       "<Figure size 640x480 with 1 Axes>"
      ]
     },
     "metadata": {},
     "output_type": "display_data"
    }
   ],
   "source": [
    "# Ageをプロット\n",
    "df_titanic_train[\"Age\"].plot(kind=\"hist\", bins=20)"
   ]
  },
  {
   "cell_type": "markdown",
   "metadata": {},
   "source": [
    "### Ageの欠損値を離散化＆平均埋めが精度向上につながるか検証"
   ]
  },
  {
   "cell_type": "markdown",
   "metadata": {},
   "source": [
    "#### Ageの欠損値を平均値で埋める"
   ]
  },
  {
   "cell_type": "code",
   "execution_count": 5,
   "metadata": {},
   "outputs": [
    {
     "name": "stdout",
     "output_type": "stream",
     "text": [
      "PassengerId      0\n",
      "Survived         0\n",
      "Pclass           0\n",
      "Name             0\n",
      "Sex              0\n",
      "Age              0\n",
      "SibSp            0\n",
      "Parch            0\n",
      "Ticket           0\n",
      "Fare             0\n",
      "Cabin          687\n",
      "Embarked         2\n",
      "dtype: int64\n"
     ]
    }
   ],
   "source": [
    "df_titanic_train_age_mean = df_titanic_train.copy()\n",
    "df_titanic_train_age_mean[\"Age\"] = df_titanic_train_age_mean[\"Age\"].fillna(\n",
    "    df_titanic_train_age_mean[\"Age\"].mean()\n",
    ")\n",
    "\n",
    "print(df_titanic_train_age_mean.isnull().sum())"
   ]
  },
  {
   "cell_type": "markdown",
   "metadata": {},
   "source": [
    "#### Ageを離散化する"
   ]
  },
  {
   "cell_type": "code",
   "execution_count": 6,
   "metadata": {},
   "outputs": [
    {
     "data": {
      "text/plain": [
       "<Axes: xlabel='Age_bin'>"
      ]
     },
     "execution_count": 6,
     "metadata": {},
     "output_type": "execute_result"
    },
    {
     "data": {
      "image/png": "[encoded data removed]",
      "text/plain": [
       "<Figure size 640x480 with 1 Axes>"
      ]
     },
     "metadata": {},
     "output_type": "display_data"
    }
   ],
   "source": [
    "df_titanic_train_discretization = df_titanic_train.copy()\n",
    "# 離散化\n",
    "df_titanic_train_discretization[\"Age_bin\"] = pd.cut(\n",
    "    df_titanic_train_discretization[\"Age\"],\n",
    "    bins=[0, 10, 20, 30, 40, 50, 60, 100],\n",
    "    labels=[\"10代未満\", \"10代\", \"20代\", \"30代\", \"40代\", \"50代\", \"60代以上\"],\n",
    "    right=False,\n",
    "    duplicates=\"raise\",\n",
    "    include_lowest=True,\n",
    ")\n",
    "\n",
    "# 離散化結果をプロット\n",
    "df_titanic_train_discretization[\"Age_bin\"].value_counts().plot(kind=\"bar\")"
   ]
  },
  {
   "cell_type": "markdown",
   "metadata": {},
   "source": [
    "#### モデル精度検証"
   ]
  },
  {
   "cell_type": "code",
   "execution_count": 7,
   "metadata": {},
   "outputs": [
    {
     "name": "stdout",
     "output_type": "stream",
     "text": [
      "何もしない 0.6700834850291884\n",
      "平均埋め 0.6700834850291884\n",
      "平均埋め離散化 0.6835603540267403\n"
     ]
    },
    {
     "data": {
      "image/png": "[encoded data removed]",
      "text/plain": [
       "<Figure size 1200x600 with 1 Axes>"
      ]
     },
     "metadata": {},
     "output_type": "display_data"
    }
   ],
   "source": [
    "X, y, id = (\n",
    "    df_titanic_train[[\"Pclass\", \"Fare\", \"Age\"]],\n",
    "    df_titanic_train[\"Survived\"],\n",
    "    df_titanic_train[\"PassengerId\"],\n",
    ")\n",
    "X_ave, y_ave, id_ave = (\n",
    "    df_titanic_train_age_mean[[\"Pclass\", \"Fare\", \"Age\"]],\n",
    "    df_titanic_train_age_mean[\"Survived\"],\n",
    "    df_titanic_train_age_mean[\"PassengerId\"],\n",
    ")\n",
    "X_disc, y_disc, id_disc = (\n",
    "    df_titanic_train_discretization[[\"Pclass\", \"Fare\", \"Age_bin\"]],\n",
    "    df_titanic_train_discretization[\"Survived\"],\n",
    "    df_titanic_train_discretization[\"PassengerId\"],\n",
    ")\n",
    "\n",
    "bl = Baseline(input_X=X, input_y=y, input_id=id)\n",
    "bl_ave = Baseline(input_X=X_ave, input_y=y_ave, input_id=id_ave)\n",
    "bl_disc = Baseline(input_X=X_disc, input_y=y_disc, input_id=id_disc)\n",
    "\n",
    "imps, score = bl.create_model()\n",
    "imps_ave, score_ave = bl_ave.create_model()\n",
    "imps_disc, score_disc = bl_disc.create_model()\n",
    "\n",
    "print(\"何もしない\", score)\n",
    "print(\"平均埋め\", score_ave)\n",
    "print(\"平均埋め離散化\", score_disc)\n",
    "\n",
    "bl_disc.plot_feature_importance(imps_disc)"
   ]
  },
  {
   "cell_type": "markdown",
   "metadata": {},
   "source": [
    "## Ageをランダムフォレストを元にして欠損値処理をする"
   ]
  },
  {
   "cell_type": "code",
   "execution_count": null,
   "metadata": {},
   "outputs": [],
   "source": [
    "# ------------ Age ------------\n",
    "# Age を Pclass, Sex, Parch, SibSp からランダムフォレストで推定\n",
    "from sklearn.ensemble import RandomForestRegressor\n",
    "\n",
    "# 推定に使用する項目を指定\n",
    "age_df = df_titanic_train[[\"Age\", \"Pclass\", \"Sex\", \"Parch\", \"SibSp\"]]\n",
    "\n",
    "# ラベル特徴量をワンホットエンコーディング\n",
    "age_df = pd.get_dummies(age_df)\n",
    "\n",
    "# 学習データとテストデータに分離し、numpyに変換\n",
    "known_age = age_df[age_df.Age.notnull()].values\n",
    "unknown_age = age_df[age_df.Age.isnull()].values\n",
    "\n",
    "# 学習データをX, yに分離\n",
    "X = known_age[:, 1:]\n",
    "y = known_age[:, 0]\n",
    "\n",
    "# ランダムフォレストで推定モデルを構築\n",
    "rfr = RandomForestRegressor(random_state=0, n_estimators=100, n_jobs=-1)\n",
    "rfr.fit(X, y)\n",
    "\n",
    "# 推定モデルを使って、テストデータのAgeを予測し、補完\n",
    "predictedAges = rfr.predict(unknown_age[:, 1::])\n",
    "df.loc[(df.Age.isnull()), \"Age\"] = predictedAges\n",
    "\n",
    "# 年齢別生存曲線と死亡曲線\n",
    "facet = sns.FacetGrid(df[0:890], hue=\"Survived\", aspect=2)\n",
    "facet.map(sns.kdeplot, \"Age\", shade=True)\n",
    "facet.set(xlim=(0, df.loc[0:890, \"Age\"].max()))\n",
    "facet.add_legend()\n",
    "plt.show()"
   ]
  }
 ],
 "metadata": {
  "kernelspec": {
   "display_name": "kaggle-practice-0C9Qxkwh",
   "language": "python",
   "name": "python3"
  },
  "language_info": {
   "codemirror_mode": {
    "name": "ipython",
    "version": 3
   },
   "file_extension": ".py",
   "mimetype": "text/x-python",
   "name": "python",
   "nbconvert_exporter": "python",
   "pygments_lexer": "ipython3",
   "version": "3.11.5"
  }
 },
 "nbformat": 4,
 "nbformat_minor": 2
}
