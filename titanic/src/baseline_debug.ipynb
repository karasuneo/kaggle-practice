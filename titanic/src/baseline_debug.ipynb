{
 "cells": [
  {
   "cell_type": "code",
   "execution_count": 1,
   "metadata": {},
   "outputs": [],
   "source": [
    "import pandas as pd\n",
    "import lightgbm as lgb\n",
    "import importlib\n",
    "from sklearn.preprocessing import LabelEncoder\n",
    "from sklearn.model_selection import cross_val_score, train_test_split\n",
    "from sklearn.metrics import confusion_matrix\n",
    "import matplotlib.pyplot as plt\n",
    "import numpy as np\n",
    "import feature_engineering.pipe\n",
    "\n",
    "importlib.reload(feature_engineering.pipe)\n",
    "\n",
    "from feature_engineering.pipe.baseline import Baseline"
   ]
  },
  {
   "cell_type": "code",
   "execution_count": 2,
   "metadata": {},
   "outputs": [
    {
     "name": "stdout",
     "output_type": "stream",
     "text": [
      "0.8417550687339151\n",
      "           feature  importance\n",
      "0             Fare        1013\n",
      "1           Pclass          78\n",
      "2     Title_Master          17\n",
      "3       Title_Miss          73\n",
      "4         Title_Mr          78\n",
      "5        Title_Mrs          69\n",
      "6    Title_Officer           0\n",
      "7    Title_Royalty           0\n",
      "8              Age        1030\n",
      "9       FamilySize         151\n",
      "10  Cabin_Prefix_A           0\n",
      "11  Cabin_Prefix_B           9\n",
      "12  Cabin_Prefix_C          29\n",
      "13  Cabin_Prefix_D          21\n",
      "14  Cabin_Prefix_E          28\n",
      "15  Cabin_Prefix_F           0\n",
      "16  Cabin_Prefix_G           0\n",
      "17  Cabin_Prefix_N          60\n"
     ]
    }
   ],
   "source": [
    "bl = Baseline(train_file_path=\"../data/train.csv\")\n",
    "\n",
    "impls, score = bl.run()\n",
    "\n",
    "print(score)\n",
    "print(impls)"
   ]
  }
 ],
 "metadata": {
  "kernelspec": {
   "display_name": "kaggle-practice-0C9Qxkwh",
   "language": "python",
   "name": "python3"
  },
  "language_info": {
   "codemirror_mode": {
    "name": "ipython",
    "version": 3
   },
   "file_extension": ".py",
   "mimetype": "text/x-python",
   "name": "python",
   "nbconvert_exporter": "python",
   "pygments_lexer": "ipython3",
   "version": "3.11.5"
  }
 },
 "nbformat": 4,
 "nbformat_minor": 2
}
